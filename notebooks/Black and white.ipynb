{
 "cells": [
  {
   "cell_type": "code",
   "execution_count": null,
   "id": "b85c3918",
   "metadata": {},
   "outputs": [],
   "source": [
    "# creating white and black images to analyze shape features."
   ]
  },
  {
   "cell_type": "code",
   "execution_count": 2,
   "id": "a34705ac",
   "metadata": {},
   "outputs": [],
   "source": [
    "import numpy as np\n",
    "import pydicom\n",
    "import os"
   ]
  },
  {
   "cell_type": "code",
   "execution_count": 11,
   "id": "33dad62d",
   "metadata": {},
   "outputs": [],
   "source": [
    "path = os.path.join('..', '..', 'Env_3_7', 'data', 'features2d')\n",
    "imagePath = os.path.join(path, 'image.dcm')"
   ]
  },
  {
   "cell_type": "code",
   "execution_count": 12,
   "id": "4d95f14c",
   "metadata": {},
   "outputs": [],
   "source": [
    "image = pydicom.dcmread(imagePath)"
   ]
  },
  {
   "cell_type": "code",
   "execution_count": 13,
   "id": "59f2209d",
   "metadata": {},
   "outputs": [],
   "source": [
    "pixels = image.pixel_array.copy()\n",
    "pixels[pixels!=0] = 0\n",
    "\n",
    "image.PixelData = pixels.tobytes()\n",
    "image.save_as(os.path.join(path, 'black.dcm'))"
   ]
  },
  {
   "cell_type": "code",
   "execution_count": 14,
   "id": "216980b1",
   "metadata": {},
   "outputs": [],
   "source": [
    "pixels[pixels!=255] = 255\n",
    "image.PixelData = pixels.tobytes()\n",
    "image.save_as(os.path.join(path, 'white.dcm'))"
   ]
  },
  {
   "cell_type": "code",
   "execution_count": null,
   "id": "47c3be82",
   "metadata": {},
   "outputs": [],
   "source": []
  }
 ],
 "metadata": {
  "kernelspec": {
   "display_name": "Python 3 (ipykernel)",
   "language": "python",
   "name": "python3"
  },
  "language_info": {
   "codemirror_mode": {
    "name": "ipython",
    "version": 3
   },
   "file_extension": ".py",
   "mimetype": "text/x-python",
   "name": "python",
   "nbconvert_exporter": "python",
   "pygments_lexer": "ipython3",
   "version": "3.9.6"
  }
 },
 "nbformat": 4,
 "nbformat_minor": 5
}
