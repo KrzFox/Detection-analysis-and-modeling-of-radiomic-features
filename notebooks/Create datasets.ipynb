{
 "cells": [
  {
   "cell_type": "code",
   "execution_count": null,
   "id": "8c7857f9",
   "metadata": {},
   "outputs": [],
   "source": [
    "# create radiomic features dataset"
   ]
  },
  {
   "cell_type": "code",
   "execution_count": 1,
   "id": "83fb9548",
   "metadata": {},
   "outputs": [],
   "source": [
    "from radiomics import featureextractor\n",
    "import os\n",
    "import SimpleITK as sitk\n",
    "import json, codecs\n",
    "import numpy as np"
   ]
  },
  {
   "cell_type": "code",
   "execution_count": 2,
   "id": "582422a8",
   "metadata": {},
   "outputs": [],
   "source": [
    "jsonPath = os.path.join('..', 'data', 'prepared for extraction', 'squares')\n",
    "imagesPath = os.path.join('..', 'data', 'prepared for extraction', 'images')\n",
    "resultsPath = os.path.join('..', 'data', 'dataset')"
   ]
  },
  {
   "cell_type": "code",
   "execution_count": 3,
   "id": "cb921608",
   "metadata": {},
   "outputs": [],
   "source": [
    "types = {'AML': 0, 'pRCC': 1, 'ccRCC': 1, 'onkocytoma': 0, 'łagodny-inny': 0, 'chRCC': 1, 'złośliwy-inny': 1}"
   ]
  },
  {
   "cell_type": "code",
   "execution_count": 4,
   "id": "a6dedb29",
   "metadata": {},
   "outputs": [],
   "source": [
    "def cropDict(dictionary, keys=['original_']):\n",
    "    cropped = {}\n",
    "    for k in keys:\n",
    "        for key, value in dictionary.items():\n",
    "            if key.startswith(k):\n",
    "                cropped[key] = value\n",
    "    \n",
    "    return cropped"
   ]
  },
  {
   "cell_type": "code",
   "execution_count": 5,
   "id": "ad21ac0f",
   "metadata": {},
   "outputs": [],
   "source": [
    "def jsonifyDict(dictWithNumpyArrays):\n",
    "    jsonified = dictWithNumpyArrays.copy()\n",
    "    for feature, value in jsonified.items():\n",
    "        if type(value) is np.ndarray:\n",
    "            jsonified[feature] = value.tolist()\n",
    "    \n",
    "    return jsonified"
   ]
  },
  {
   "cell_type": "code",
   "execution_count": 9,
   "id": "cfd322f0",
   "metadata": {},
   "outputs": [],
   "source": [
    "def extraction(fileName):\n",
    "    filePath = os.path.join(jsonPath, fileName)\n",
    "    savePath = os.path.join(resultsPath, fileName)\n",
    "    \n",
    "    extractor = featureextractor.RadiomicsFeatureExtractor()\n",
    "    extractor.disableAllFeatures()\n",
    "    extractor.enableFeatureClassByName('firstorder')\n",
    "    extractor.enableFeatureClassByName('glcm')\n",
    "    extractor.enableFeatureClassByName('glrlm')\n",
    "    extractor.enableFeatureClassByName('glszm')\n",
    "    extractor.enableFeatureClassByName('gldm')\n",
    "    extractor.enableFeatureClassByName('ngtdm')\n",
    "    \n",
    "    with open(filePath, 'r') as file:\n",
    "        for line in file:\n",
    "            entry = json.loads(line)\n",
    "            \n",
    "            imagePath = os.path.join(imagesPath, entry['Directory Name'], entry['File Name'])\n",
    "            maskPath = os.path.join(imagesPath, entry['Directory Name'], 'mask_' + entry['File Name'])\n",
    "            \n",
    "            image = sitk.ReadImage(imagePath)\n",
    "            mask = sitk.ReadImage(maskPath)\n",
    "            \n",
    "            result = extractor.execute(image, mask)\n",
    "            result = cropDict(result)\n",
    "            result = jsonifyDict(result)\n",
    "            result['Directory Name'] = entry['Directory Name']\n",
    "            result['File Name'] = entry['File Name']\n",
    "            result['Label'] = types[entry['Tumor Type']]\n",
    "            \n",
    "            with open(savePath, 'a') as saveFile:\n",
    "                json.dump(result, saveFile)\n",
    "                saveFile.write('\\n')"
   ]
  },
  {
   "cell_type": "code",
   "execution_count": null,
   "id": "0b21bf85",
   "metadata": {},
   "outputs": [],
   "source": [
    "extraction('mvp_etap4_all_3_test.json')"
   ]
  },
  {
   "cell_type": "code",
   "execution_count": null,
   "id": "f8d6c31e",
   "metadata": {},
   "outputs": [],
   "source": [
    "extraction('mvp_etap4_one_3_train.json')"
   ]
  },
  {
   "cell_type": "code",
   "execution_count": null,
   "id": "94758f6d",
   "metadata": {},
   "outputs": [],
   "source": [
    "extraction('mvp_etap4_all_3_train.json')"
   ]
  },
  {
   "cell_type": "code",
   "execution_count": null,
   "id": "2b607cf5",
   "metadata": {},
   "outputs": [],
   "source": []
  },
  {
   "cell_type": "code",
   "execution_count": 6,
   "id": "1b9725e5",
   "metadata": {},
   "outputs": [],
   "source": [
    "def extractionWithExtraSlices(fileName):\n",
    "    filePath = os.path.join(jsonPath, fileName)\n",
    "    savePath = os.path.join(resultsPath, 'extra_slices_' + fileName)\n",
    "    \n",
    "    extractor = featureextractor.RadiomicsFeatureExtractor()\n",
    "    extractor.disableAllFeatures()\n",
    "    extractor.enableFeatureClassByName('firstorder')\n",
    "    extractor.enableFeatureClassByName('glcm')\n",
    "    extractor.enableFeatureClassByName('glrlm')\n",
    "    extractor.enableFeatureClassByName('glszm')\n",
    "    extractor.enableFeatureClassByName('gldm')\n",
    "    extractor.enableFeatureClassByName('ngtdm')\n",
    "    \n",
    "    with open(filePath, 'r') as file:\n",
    "        for line in file:\n",
    "            entry = json.loads(line)\n",
    "            \n",
    "            imagePath = os.path.join(imagesPath, entry['Directory Name'], entry['File Name'])\n",
    "            maskPath = os.path.join(imagesPath, entry['Directory Name'], 'mask_' + entry['File Name'])\n",
    "            \n",
    "            image = sitk.ReadImage(imagePath)\n",
    "            mask = sitk.ReadImage(maskPath)\n",
    "            \n",
    "            result = extractor.execute(image, mask)\n",
    "            result = cropDict(result)\n",
    "            result = jsonifyDict(result)\n",
    "            result['Directory Name'] = entry['Directory Name']\n",
    "            result['File Name'] = entry['File Name']\n",
    "            result['Label'] = types[entry['Tumor Type']]\n",
    "            \n",
    "            with open(savePath, 'a') as saveFile:\n",
    "                json.dump(result, saveFile)\n",
    "                saveFile.write('\\n')\n",
    "            \n",
    "            name = entry['File Name']\n",
    "            name = name.replace('_anonymized.dcm', '')\n",
    "            name = name.replace('T', '')\n",
    "            \n",
    "            number = int(name)\n",
    "            numbers = [number-1, number-2, number+1, number+2]\n",
    "            \n",
    "            for n in numbers:\n",
    "                newName = 'T' + str(n) + '_anonymized.dcm'\n",
    "                newPath = os.path.join(imagesPath, entry['Directory Name'], newName)\n",
    "                if os.path.isfile(newPath):\n",
    "                    neighbor = sitk.ReadImage(newPath)\n",
    "                    result = extractor.execute(neighbor, mask)\n",
    "                    result = cropDict(result)\n",
    "                    result = jsonifyDict(result)\n",
    "                    result['Directory Name'] = entry['Directory Name']\n",
    "                    result['File Name'] = newName\n",
    "                    result['Label'] = types[entry['Tumor Type']]\n",
    "            \n",
    "                    with open(savePath, 'a') as saveFile:\n",
    "                        json.dump(result, saveFile)\n",
    "                        saveFile.write('\\n')\n",
    "            "
   ]
  },
  {
   "cell_type": "code",
   "execution_count": null,
   "id": "f20482c7",
   "metadata": {},
   "outputs": [],
   "source": [
    "extractionWithExtraSlices('mvp_etap4_all_3_test.json')"
   ]
  },
  {
   "cell_type": "code",
   "execution_count": null,
   "id": "d4c6c8b9",
   "metadata": {},
   "outputs": [],
   "source": [
    "extractionWithExtraSlices('mvp_etap4_one_3_train.json')"
   ]
  },
  {
   "cell_type": "code",
   "execution_count": null,
   "id": "500c1640",
   "metadata": {},
   "outputs": [],
   "source": [
    "extractionWithExtraSlices('mvp_etap4_all_3_train.json')"
   ]
  },
  {
   "cell_type": "code",
   "execution_count": null,
   "id": "3ff76338",
   "metadata": {},
   "outputs": [],
   "source": []
  }
 ],
 "metadata": {
  "kernelspec": {
   "display_name": "Python 3 (ipykernel)",
   "language": "python",
   "name": "python3"
  },
  "language_info": {
   "codemirror_mode": {
    "name": "ipython",
    "version": 3
   },
   "file_extension": ".py",
   "mimetype": "text/x-python",
   "name": "python",
   "nbconvert_exporter": "python",
   "pygments_lexer": "ipython3",
   "version": "3.7.9"
  }
 },
 "nbformat": 4,
 "nbformat_minor": 5
}
